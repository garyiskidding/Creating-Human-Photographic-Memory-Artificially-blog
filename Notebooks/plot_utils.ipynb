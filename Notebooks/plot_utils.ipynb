{
 "cells": [
  {
   "cell_type": "code",
   "execution_count": 1,
   "id": "5f759c9a",
   "metadata": {},
   "outputs": [],
   "source": [
    "%load_ext autoreload\n",
    "%autoreload 2\n",
    "%matplotlib inline"
   ]
  },
  {
   "cell_type": "code",
   "execution_count": 2,
   "id": "b95e6341",
   "metadata": {},
   "outputs": [],
   "source": [
    "#export\n",
    "import matplotlib.cm as cm\n",
    "import matplotlib.pyplot as plt\n",
    "from mpl_toolkits import mplot3d\n",
    "import numpy as np\n",
    "import pandas as pd\n",
    "import random\n",
    "import seaborn as sns\n",
    "import sklearn\n",
    "import time\n",
    "import torch\n",
    "#import umap\n",
    "\n",
    "# Non-Ipython imports should be sorted by name\n",
    "from IPython import get_ipython\n",
    "from IPython.core.debugger import set_trace\n",
    "\n"
   ]
  },
  {
   "cell_type": "code",
   "execution_count": 3,
   "id": "4b27030e",
   "metadata": {},
   "outputs": [],
   "source": [
    "#export\n",
    "markers = ['.', 'v', '^', '>', '<', '8', 's', 'p', 'P', '*', 'h', 'H', 'X', 'D', 'd']"
   ]
  },
  {
   "cell_type": "code",
   "execution_count": 4,
   "id": "bcced7c3",
   "metadata": {},
   "outputs": [],
   "source": [
    "#export\n",
    "def groupify(l,t):\n",
    "    l = l.type(torch.FloatTensor)\n",
    "    t  = torch.cat((l.unsqueeze(dim=1),t), dim=1)\n",
    "    l  = set(sorted(l.tolist()))\n",
    "    gs = {}\n",
    "    for c in l:\n",
    "        g = []\n",
    "        for i in range(t.shape[0]):\n",
    "            if t[i][0] == c: g.append(t[i])\n",
    "        gs.update({c:torch.stack(g)})\n",
    "    return gs\n",
    "\n",
    "def groupifyn(l,d):\n",
    "    '''\n",
    "    Make groups of label-data dict for numpy arrays\n",
    "    l : numpy list of items. Will be uniquely identified for elements.\n",
    "    d : numpy data of the same length as l.\n",
    "    '''\n",
    "    ls  = set(sorted(l.tolist()))\n",
    "    if len(l.shape) ==1 : l = np.expand_dims(l, axis=1)\n",
    "    ld = np.concatenate((l, d), axis=1)\n",
    "    gs = {}\n",
    "    for c in ls:\n",
    "        g = []\n",
    "        for i in range(ld.shape[0]):\n",
    "            if ld[i][0] == c: g.append(ld[i])\n",
    "        gs.update({c:np.stack(g)})\n",
    "    return gs"
   ]
  },
  {
   "cell_type": "code",
   "execution_count": 5,
   "id": "023a59b6",
   "metadata": {},
   "outputs": [],
   "source": [
    "#export\n",
    "def PCA(x, k=2):\n",
    "    xm = (torch.mean(x)).expand_as(x)\n",
    "    x = x - xm\n",
    "    u,s,v = torch.svd(torch.t(x))\n",
    "    return torch.mm(x, u[:,:k])"
   ]
  },
  {
   "cell_type": "code",
   "execution_count": 6,
   "id": "cc326644",
   "metadata": {},
   "outputs": [],
   "source": [
    "#export\n",
    "def plot_group_scatter_t(labels, groups, title, figsize=[10,10]):\n",
    "    '''\n",
    "    scatter plot with tensor based groups\n",
    "    '''\n",
    "    colors = cm.nipy_spectral(np.linspace(0, 1, len(labels))) # cm.rainbow has limited colors, try cm.nipy_spectral or cm.gist_ncar\n",
    "    fig = plt.figure(figsize=figsize)\n",
    "    k = list(groups)[0].shape[1] -1\n",
    "    if   k == 2: # 2D plot\n",
    "        ax = fig.add_subplot(1, 1, 1)\n",
    "        for lbl, grp, clr in zip(labels, groups, colors):\n",
    "            ax.scatter(grp.narrow(1,1,1).numpy(), grp.narrow(1,2,1).numpy(), alpha=0.8, color=clr, marker=random.choice(markers), edgecolors='none', s=40, label=lbl)\n",
    "    elif k == 3: # 3D plot\n",
    "        ax = plt.axes(projection=\"3d\")\n",
    "        for lbl, grp, clr in zip(labels, groups, colors):\n",
    "            ax.scatter3D(grp.narrow(1,1,1).numpy(), grp.narrow(1,2,1).numpy(), grp.narrow(1,3,1).numpy(), color=clr, marker=random.choice(markers), s=40 ,alpha=1, edgecolor='grey', label=lbl)        \n",
    "    plt.title(title)\n",
    "    plt.show()\n",
    "    return fig\n",
    "\n",
    "def plot_group_scatter_n(labels, groups, title, figsize=[10,10]):\n",
    "    colors = cm.nipy_spectral(np.linspace(0, 1, len(labels)))\n",
    "    fig = plt.figure(figsize=figsize)\n",
    "    k = list(groups)[0].shape[1] -1\n",
    "    if   k == 2: # 2D plot \n",
    "        ax = fig.add_subplot(1, 1, 1)\n",
    "        for lbl, grp, clr in zip(labels, groups, colors):\n",
    "            ax.scatter(grp[:,1:2], grp[:,2:3], alpha=0.8, color=clr, marker=random.choice(markers), edgecolors='none', s=40, label=lbl)\n",
    "    elif k == 3: # 3D plot\n",
    "        ax = plt.axes(projection=\"3d\")\n",
    "        for lbl, grp, clr in zip(labels, groups, colors):\n",
    "            ax.scatter3D(grp[:,1:2], grp[:,2:3], grp[:,3:4], color=clr, marker=random.choice(markers), s=40, alpha=1, edgecolor='grey', label=lbl)        \n",
    "    plt.title(title)\n",
    "    plt.show()\n",
    "    return fig"
   ]
  },
  {
   "cell_type": "code",
   "execution_count": 7,
   "id": "eebbf686",
   "metadata": {},
   "outputs": [],
   "source": [
    "#export\n",
    "def plot_pca(l, emb, k=3, figsize=[10,10]):\n",
    "    emb_pca = PCA(emb, k=k)\n",
    "    groups = groupify(l, emb_pca)\n",
    "    return plot_group_scatter_t(groups.keys(), groups.values(), f'PCA for C=({len(groups.keys())})', figsize=figsize)"
   ]
  },
  {
   "cell_type": "code",
   "execution_count": 8,
   "id": "12260398",
   "metadata": {},
   "outputs": [
    {
     "name": "stdout",
     "output_type": "stream",
     "text": [
      "Converted plot_utils.ipynb to exp/plot_utils.py\r\n"
     ]
    }
   ],
   "source": [
    "! ../notebook2script.py plot_utils.ipynb"
   ]
  },
  {
   "cell_type": "code",
   "execution_count": null,
   "id": "370e83fd",
   "metadata": {},
   "outputs": [],
   "source": []
  }
 ],
 "metadata": {
  "kernelspec": {
   "display_name": "Python 3 (ipykernel)",
   "language": "python",
   "name": "python3"
  },
  "language_info": {
   "codemirror_mode": {
    "name": "ipython",
    "version": 3
   },
   "file_extension": ".py",
   "mimetype": "text/x-python",
   "name": "python",
   "nbconvert_exporter": "python",
   "pygments_lexer": "ipython3",
   "version": "3.10.4"
  }
 },
 "nbformat": 4,
 "nbformat_minor": 5
}
